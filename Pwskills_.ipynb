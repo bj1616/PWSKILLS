{
  "cells": [
    {
      "cell_type": "markdown",
      "metadata": {},
      "source": [
        "## Define a python module named constants.py containing constants like pi and speed of light\n"
      ]
    },
    {
      "cell_type": "code",
      "execution_count": 7,
      "metadata": {},
      "outputs": [
        {
          "name": "stdout",
          "output_type": "stream",
          "text": [
            "12.56\n",
            "180000000000000000\n"
          ]
        }
      ],
      "source": [
        "'''\n",
        "constants.py\n",
        "def pi():\n",
        "    return 3.14\n",
        "\n",
        "def speed_of_light():\n",
        "    return 3*10**8 '''\n",
        "\n",
        "\n",
        "import constants\n",
        "print(constants.pi()*2*2)  # area of circle is pi*r*r where r=2\n",
        "print(2*constants.speed_of_light()*constants.speed_of_light()) # E=mc2 where m=2"
      ]
    },
    {
      "cell_type": "markdown",
      "metadata": {},
      "source": [
        "## Write a python module named calculator.py containing functions like addition,subtraction,multiplication, and division."
      ]
    },
    {
      "cell_type": "code",
      "execution_count": 11,
      "metadata": {},
      "outputs": [
        {
          "name": "stdout",
          "output_type": "stream",
          "text": [
            "addition of 10 and 20 is: 30\n",
            "subtraction of 10 and 20 is: -10\n",
            "multiplication of 10 and 20 is: 200\n",
            "division of 10 and 20 is: 0\n"
          ]
        }
      ],
      "source": [
        "'''Calculators.py\n",
        "\n",
        "def add(a,b):\n",
        "    return a+b\n",
        "\n",
        "def sub(a,b):\n",
        "    return a-b\n",
        "\n",
        "def mul(a,b):\n",
        "    return a*b\n",
        "\n",
        "def div(a,b):\n",
        "    return a//b\n",
        "    \n",
        "'''\n",
        "import calculators as calc\n",
        "\n",
        "a=10 \n",
        "b=20\n",
        "\n",
        "print(f'addition of {a} and {b} is:',calc.add(a,b))\n",
        "print(f'subtraction of {a} and {b} is:',calc.sub(a,b))\n",
        "print(f'multiplication of {a} and {b} is:',calc.mul(a,b))\n",
        "print(f'division of {a} and {b} is:',calc.div(a,b))"
      ]
    },
    {
      "cell_type": "markdown",
      "metadata": {},
      "source": [
        "13. ## Implement a Python package structure for a project named ecommerce, containing modules for product management and order processing."
      ]
    },
    {
      "cell_type": "code",
      "execution_count": 43,
      "metadata": {},
      "outputs": [
        {
          "name": "stdout",
          "output_type": "stream",
          "text": [
            "Stock value is changed to 50\n",
            "Successfully updated...\n",
            "order of Game console is placed...\n",
            "Out of stock!!\n",
            "Stock value is changed to 150\n",
            "Successfully updated...\n",
            "Stock value is changed to 95\n",
            "Successfully updated...\n",
            "order of Game console is placed...\n"
          ]
        }
      ],
      "source": [
        "'''\n",
        "#ecommerce.py\n",
        "class product:\n",
        "    def __init__(self,id,name,price,stock):\n",
        "        self.id=id\n",
        "        self.name=name\n",
        "        self.price=price\n",
        "        self.stock=stock\n",
        "\n",
        "    \n",
        "    def update_stock(self,quantity):\n",
        "        self.stock+=quantity\n",
        "        print(f'Stock value is changed to {self.stock}')\n",
        "        print(\"Successfully updated...\")\n",
        "\n",
        "    def apply_discount(self,discount):\n",
        "        self.price-=self.price*(discount/100)\n",
        "        print(f'After discounting the price will be {self.price}')\n",
        "\n",
        "#orders.py\n",
        "\n",
        "from ecommerce import product\n",
        "\n",
        "class order:\n",
        "    def __init__(self,order_id,product,quantity):\n",
        "        self.order_id=order_id\n",
        "        self.product=product \n",
        "        self.quantity=quantity\n",
        "        self.flag=\"pending\"\n",
        "\n",
        "    def process_order(self):\n",
        "        if self.product.stock >= self.quantity:\n",
        "            self.product.update_stock(-self.quantity)\n",
        "            self.flag=\"processing\"\n",
        "            print(f'order of {self.product.name} is placed...')\n",
        "        else:\n",
        "            print(\"Out of stock!!\")\n",
        "\n",
        "    def cancel_order(self):\n",
        "        if self.flag==\"processing\":\n",
        "            self.product.update_stock(self.quantity)\n",
        "        self.flag=\"cancelled\"\n",
        "\n",
        "        print(f'product with {self.name} is cancelled..')\n",
        "\n",
        "'''\n",
        "\n",
        "\n",
        "from ecommerce import product\n",
        "from orders  import order\n",
        "\n",
        "prod = product(1,\"Game console\",1000,55) # product management\n",
        "\n",
        "ord1 = order(1001,prod,5)   #order 1\n",
        "ord2 = order(1002,prod,55)  # order 2\n",
        "\n",
        "ord1.process_order()\n",
        "\n",
        "ord2.process_order()\n",
        "\n",
        "prod.update_stock(100)\n",
        "\n",
        "ord2.process_order()\n",
        "\n"
      ]
    },
    {
      "cell_type": "code",
      "execution_count": null,
      "metadata": {},
      "outputs": [],
      "source": []
    }
  ],
  "metadata": {
    "colab": {
      "provenance": []
    },
    "kernelspec": {
      "display_name": "Python 3",
      "name": "python3"
    },
    "language_info": {
      "codemirror_mode": {
        "name": "ipython",
        "version": 3
      },
      "file_extension": ".py",
      "mimetype": "text/x-python",
      "name": "python",
      "nbconvert_exporter": "python",
      "pygments_lexer": "ipython3",
      "version": "3.11.5"
    }
  },
  "nbformat": 4,
  "nbformat_minor": 0
}
