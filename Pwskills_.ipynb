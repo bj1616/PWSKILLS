{
  "cells": [
    {
      "cell_type": "markdown",
      "metadata": {},
      "source": [
        "## Define a python module named constants.py containing constants like pi and speed of light\n"
      ]
    },
    {
      "cell_type": "code",
      "execution_count": 7,
      "metadata": {},
      "outputs": [
        {
          "name": "stdout",
          "output_type": "stream",
          "text": [
            "12.56\n",
            "180000000000000000\n"
          ]
        }
      ],
      "source": [
        "'''\n",
        "constants.py\n",
        "def pi():\n",
        "    return 3.14\n",
        "\n",
        "def speed_of_light():\n",
        "    return 3*10**8 '''\n",
        "\n",
        "\n",
        "import constants\n",
        "print(constants.pi()*2*2)  # area of circle is pi*r*r where r=2\n",
        "print(2*constants.speed_of_light()*constants.speed_of_light()) # E=mc2 where m=2"
      ]
    },
    {
      "cell_type": "code",
      "execution_count": null,
      "metadata": {},
      "outputs": [],
      "source": []
    }
  ],
  "metadata": {
    "colab": {
      "provenance": []
    },
    "kernelspec": {
      "display_name": "Python 3",
      "name": "python3"
    },
    "language_info": {
      "codemirror_mode": {
        "name": "ipython",
        "version": 3
      },
      "file_extension": ".py",
      "mimetype": "text/x-python",
      "name": "python",
      "nbconvert_exporter": "python",
      "pygments_lexer": "ipython3",
      "version": "3.11.5"
    }
  },
  "nbformat": 4,
  "nbformat_minor": 0
}
