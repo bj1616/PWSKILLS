{
  "cells": [
    {
      "cell_type": "markdown",
      "metadata": {},
      "source": [
        "## Define a python module named constants.py containing constants like pi and speed of light\n"
      ]
    },
    {
      "cell_type": "code",
      "execution_count": 7,
      "metadata": {},
      "outputs": [
        {
          "name": "stdout",
          "output_type": "stream",
          "text": [
            "12.56\n",
            "180000000000000000\n"
          ]
        }
      ],
      "source": [
        "'''\n",
        "constants.py\n",
        "def pi():\n",
        "    return 3.14\n",
        "\n",
        "def speed_of_light():\n",
        "    return 3*10**8 '''\n",
        "\n",
        "\n",
        "import constants\n",
        "print(constants.pi()*2*2)  # area of circle is pi*r*r where r=2\n",
        "print(2*constants.speed_of_light()*constants.speed_of_light()) # E=mc2 where m=2"
      ]
    },
    {
      "cell_type": "markdown",
      "metadata": {},
      "source": [
        "## Write a python module named calculator.py containing functions like addition,subtraction,multiplication, and division."
      ]
    },
    {
      "cell_type": "code",
      "execution_count": 11,
      "metadata": {},
      "outputs": [
        {
          "name": "stdout",
          "output_type": "stream",
          "text": [
            "addition of 10 and 20 is: 30\n",
            "subtraction of 10 and 20 is: -10\n",
            "multiplication of 10 and 20 is: 200\n",
            "division of 10 and 20 is: 0\n"
          ]
        }
      ],
      "source": [
        "'''Calculators.py\n",
        "\n",
        "def add(a,b):\n",
        "    return a+b\n",
        "\n",
        "def sub(a,b):\n",
        "    return a-b\n",
        "\n",
        "def mul(a,b):\n",
        "    return a*b\n",
        "\n",
        "def div(a,b):\n",
        "    return a//b\n",
        "    \n",
        "'''\n",
        "import calculators as calc\n",
        "\n",
        "a=10 \n",
        "b=20\n",
        "\n",
        "print(f'addition of {a} and {b} is:',calc.add(a,b))\n",
        "print(f'subtraction of {a} and {b} is:',calc.sub(a,b))\n",
        "print(f'multiplication of {a} and {b} is:',calc.mul(a,b))\n",
        "print(f'division of {a} and {b} is:',calc.div(a,b))"
      ]
    },
    {
      "cell_type": "markdown",
      "metadata": {},
      "source": [
        "13. ## Implement a Python package structure for a project named ecommerce, containing modules for product management and order processing."
      ]
    },
    {
      "cell_type": "code",
      "execution_count": 43,
      "metadata": {},
      "outputs": [
        {
          "name": "stdout",
          "output_type": "stream",
          "text": [
            "Stock value is changed to 50\n",
            "Successfully updated...\n",
            "order of Game console is placed...\n",
            "Out of stock!!\n",
            "Stock value is changed to 150\n",
            "Successfully updated...\n",
            "Stock value is changed to 95\n",
            "Successfully updated...\n",
            "order of Game console is placed...\n"
          ]
        }
      ],
      "source": [
        "'''\n",
        "#ecommerce.py\n",
        "class product:\n",
        "    def __init__(self,id,name,price,stock):\n",
        "        self.id=id\n",
        "        self.name=name\n",
        "        self.price=price\n",
        "        self.stock=stock\n",
        "\n",
        "    \n",
        "    def update_stock(self,quantity):\n",
        "        self.stock+=quantity\n",
        "        print(f'Stock value is changed to {self.stock}')\n",
        "        print(\"Successfully updated...\")\n",
        "\n",
        "    def apply_discount(self,discount):\n",
        "        self.price-=self.price*(discount/100)\n",
        "        print(f'After discounting the price will be {self.price}')\n",
        "\n",
        "#orders.py\n",
        "\n",
        "from ecommerce import product\n",
        "\n",
        "class order:\n",
        "    def __init__(self,order_id,product,quantity):\n",
        "        self.order_id=order_id\n",
        "        self.product=product \n",
        "        self.quantity=quantity\n",
        "        self.flag=\"pending\"\n",
        "\n",
        "    def process_order(self):\n",
        "        if self.product.stock >= self.quantity:\n",
        "            self.product.update_stock(-self.quantity)\n",
        "            self.flag=\"processing\"\n",
        "            print(f'order of {self.product.name} is placed...')\n",
        "        else:\n",
        "            print(\"Out of stock!!\")\n",
        "\n",
        "    def cancel_order(self):\n",
        "        if self.flag==\"processing\":\n",
        "            self.product.update_stock(self.quantity)\n",
        "        self.flag=\"cancelled\"\n",
        "\n",
        "        print(f'product with {self.name} is cancelled..')\n",
        "\n",
        "'''\n",
        "\n",
        "\n",
        "from ecommerce import product\n",
        "from orders  import order\n",
        "\n",
        "prod = product(1,\"Game console\",1000,55) # product management\n",
        "\n",
        "ord1 = order(1001,prod,5)   #order 1\n",
        "ord2 = order(1002,prod,55)  # order 2\n",
        "\n",
        "ord1.process_order()\n",
        "\n",
        "ord2.process_order()\n",
        "\n",
        "prod.update_stock(100)\n",
        "\n",
        "ord2.process_order()\n",
        "\n"
      ]
    },
    {
      "cell_type": "markdown",
      "metadata": {},
      "source": [
        " ## Implement a Python module named string_utils.py containing functions for string manipulation, such as reversing and capitalizing strings."
      ]
    },
    {
      "cell_type": "code",
      "execution_count": 5,
      "metadata": {},
      "outputs": [
        {
          "name": "stdout",
          "output_type": "stream",
          "text": [
            "HELLO\n",
            "hello\n",
            "olleh\n",
            "Hello\n"
          ]
        }
      ],
      "source": [
        "'''\n",
        "string_utils.py\n",
        "\n",
        "def reversed(string):\n",
        "        return string[::-1]\n",
        "    \n",
        "def capitalized(string):\n",
        "        return string.capitalize()\n",
        "\n",
        "def uppercased(string):\n",
        "        return string.upper()\n",
        "\n",
        "def lowercased(string):\n",
        "        return string.lower()\n",
        "'''\n",
        "import string_utils\n",
        "\n",
        "strs = \"hello\"\n",
        "\n",
        "print(string_utils.uppercased(strs))\n",
        "print(string_utils.lowercased(strs))\n",
        "print(string_utils.reversed(strs))\n",
        "print(string_utils.capitalized(strs))"
      ]
    },
    {
      "cell_type": "markdown",
      "metadata": {},
      "source": [
        "## Write a Python module named file_operations.py with functions for reading, writing, and appending data to a file."
      ]
    },
    {
      "cell_type": "code",
      "execution_count": 14,
      "metadata": {},
      "outputs": [
        {
          "name": "stdout",
          "output_type": "stream",
          "text": [
            "None\n"
          ]
        }
      ],
      "source": [
        "'''\n",
        "file_operation.py\n",
        "\n",
        "def read_file():\n",
        "    fp = open(\"file1.txt\",\"r\")\n",
        "    for i in fp.read():\n",
        "        print(i)\n",
        "    fp.close()\n",
        "\n",
        "def write_file(strs):\n",
        "    fp = open(\"file1.txt\",\"w\")\n",
        "    fp.write(strs)\n",
        "    fp.close()\n",
        "\n",
        "def append_file(strs1):\n",
        "    fp = open(\"file1.txt\",\"a\")\n",
        "    fp.write(strs1)\n",
        "    fp.close()\n",
        "\n",
        "'''\n",
        "\n",
        "import file_operations as fo\n",
        "\n",
        "strs = \"hello how are you?\"\n",
        "strs1 = \"I am fine\"\n",
        "\n",
        "fo.read_file()\n",
        "fo.write_file(strs)\n",
        "fo.append_file(strs1)\n",
        "\n",
        "\n",
        "# output: hello how are you?I am fine\n",
        "\n"
      ]
    },
    {
      "cell_type": "markdown",
      "metadata": {},
      "source": [
        "##  Write a Python program to create a text file named \"employees.txt\" and write the details of employees, including their name, age, and salary, into the file."
      ]
    },
    {
      "cell_type": "code",
      "execution_count": 29,
      "metadata": {},
      "outputs": [
        {
          "name": "stdout",
          "output_type": "stream",
          "text": [
            "name:xyz ,age: 20 , salary: 50000\n",
            "\n",
            "name:def ,age: 18 , salary: 90000\n",
            "\n"
          ]
        }
      ],
      "source": [
        "fp = open(\"employees.txt\",\"w+\")\n",
        "employees = [\n",
        "{'name':'xyz','age':20,'salary':50000},\n",
        "{'name':'def','age':18,'salary':90000}\n",
        "]\n",
        "\n",
        "for employee in employees:\n",
        "    fp.write(f\"name:{employee['name']} ,age: {employee['age']} , salary: {employee['salary']}\\n\")\n",
        "\n",
        "for i in fp.readlines():\n",
        "    print(i)\n",
        "\n",
        "fp.close()"
      ]
    },
    {
      "cell_type": "markdown",
      "metadata": {},
      "source": [
        "## Develop a Python script that opens an existing text file named \"inventory.txt\" in read mode and displays the contents of the file line by line"
      ]
    },
    {
      "cell_type": "code",
      "execution_count": 30,
      "metadata": {},
      "outputs": [
        {
          "name": "stdout",
          "output_type": "stream",
          "text": [
            "This is the automobile inventory.\n",
            "\n",
            "\n",
            "\n",
            "This inventory consis of various components.\n"
          ]
        }
      ],
      "source": [
        "fp = open(\"inventory.txt\",\"r\")\n",
        "for i in fp.readlines():\n",
        "    print(i)\n",
        "\n",
        "fp.close()"
      ]
    },
    {
      "cell_type": "markdown",
      "metadata": {},
      "source": [
        "## Create a Python script that reads a text file named \"expenses.txt\" and calculates the total amount spent on various expenses listed in the file"
      ]
    },
    {
      "cell_type": "code",
      "execution_count": 49,
      "metadata": {},
      "outputs": [
        {
          "name": "stdout",
          "output_type": "stream",
          "text": [
            "150\n"
          ]
        }
      ],
      "source": [
        "fp = open(\"expenses.txt\",\"r\")\n",
        "total_amount = 0\n",
        "for i in fp:\n",
        "    parts = i.strip().split()\n",
        "    if parts:\n",
        "        amount = int(parts[-1])\n",
        "        total_amount+=amount\n",
        "print(total_amount)\n"
      ]
    },
    {
      "cell_type": "code",
      "execution_count": 51,
      "metadata": {},
      "outputs": [
        {
          "name": "stdout",
          "output_type": "stream",
          "text": [
            "automobile:1 \n",
            "components:1 \n",
            "consis:1 \n",
            "inventory:2 \n",
            "is:1 \n",
            "of:1 \n",
            "the:1 \n",
            "this:2 \n",
            "various:1 \n"
          ]
        }
      ],
      "source": [
        "from collections import Counter\n",
        "import re\n",
        "\n",
        "def word_count(path):\n",
        "    fp = open(path,\"r\")\n",
        "    text = fp.read().lower()\n",
        "    words = re.findall(r'\\b\\w+\\b',text)\n",
        "    words_count = Counter(words)\n",
        "\n",
        "    sorted_word_count = dict(sorted(words_count.items()))\n",
        "\n",
        "    for word,count in sorted_word_count.items():\n",
        "        print(f\"{word}:{count} \")\n",
        "\n",
        "word_count(\"inventory.txt\")"
      ]
    },
    {
      "cell_type": "code",
      "execution_count": null,
      "metadata": {},
      "outputs": [],
      "source": []
    }
  ],
  "metadata": {
    "colab": {
      "provenance": []
    },
    "kernelspec": {
      "display_name": "Python 3",
      "name": "python3"
    },
    "language_info": {
      "codemirror_mode": {
        "name": "ipython",
        "version": 3
      },
      "file_extension": ".py",
      "mimetype": "text/x-python",
      "name": "python",
      "nbconvert_exporter": "python",
      "pygments_lexer": "ipython3",
      "version": "3.11.5"
    }
  },
  "nbformat": 4,
  "nbformat_minor": 0
}
