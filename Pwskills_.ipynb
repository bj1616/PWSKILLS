{
  "cells": [
    {
      "cell_type": "markdown",
      "metadata": {},
      "source": [
        "## Define a python module named constants.py containing constants like pi and speed of light\n"
      ]
    },
    {
      "cell_type": "code",
      "execution_count": 7,
      "metadata": {},
      "outputs": [
        {
          "name": "stdout",
          "output_type": "stream",
          "text": [
            "12.56\n",
            "180000000000000000\n"
          ]
        }
      ],
      "source": [
        "'''\n",
        "constants.py\n",
        "def pi():\n",
        "    return 3.14\n",
        "\n",
        "def speed_of_light():\n",
        "    return 3*10**8 '''\n",
        "\n",
        "\n",
        "import constants\n",
        "print(constants.pi()*2*2)  # area of circle is pi*r*r where r=2\n",
        "print(2*constants.speed_of_light()*constants.speed_of_light()) # E=mc2 where m=2"
      ]
    },
    {
      "cell_type": "markdown",
      "metadata": {},
      "source": [
        "## Write a python module named calculator.py containing functions like addition,subtraction,multiplication, and division."
      ]
    },
    {
      "cell_type": "code",
      "execution_count": 11,
      "metadata": {},
      "outputs": [
        {
          "name": "stdout",
          "output_type": "stream",
          "text": [
            "addition of 10 and 20 is: 30\n",
            "subtraction of 10 and 20 is: -10\n",
            "multiplication of 10 and 20 is: 200\n",
            "division of 10 and 20 is: 0\n"
          ]
        }
      ],
      "source": [
        "'''Calculators.py\n",
        "\n",
        "def add(a,b):\n",
        "    return a+b\n",
        "\n",
        "def sub(a,b):\n",
        "    return a-b\n",
        "\n",
        "def mul(a,b):\n",
        "    return a*b\n",
        "\n",
        "def div(a,b):\n",
        "    return a//b\n",
        "    \n",
        "'''\n",
        "import calculators as calc\n",
        "\n",
        "a=10 \n",
        "b=20\n",
        "\n",
        "print(f'addition of {a} and {b} is:',calc.add(a,b))\n",
        "print(f'subtraction of {a} and {b} is:',calc.sub(a,b))\n",
        "print(f'multiplication of {a} and {b} is:',calc.mul(a,b))\n",
        "print(f'division of {a} and {b} is:',calc.div(a,b))"
      ]
    },
    {
      "cell_type": "code",
      "execution_count": null,
      "metadata": {},
      "outputs": [],
      "source": []
    }
  ],
  "metadata": {
    "colab": {
      "provenance": []
    },
    "kernelspec": {
      "display_name": "Python 3",
      "name": "python3"
    },
    "language_info": {
      "codemirror_mode": {
        "name": "ipython",
        "version": 3
      },
      "file_extension": ".py",
      "mimetype": "text/x-python",
      "name": "python",
      "nbconvert_exporter": "python",
      "pygments_lexer": "ipython3",
      "version": "3.11.5"
    }
  },
  "nbformat": 4,
  "nbformat_minor": 0
}
