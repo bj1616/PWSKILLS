{
  "cells": [
    {
      "cell_type": "markdown",
      "metadata": {},
      "source": [
        "## Define a python module named constants.py containing constants like pi and speed of light\n"
      ]
    },
    {
      "cell_type": "code",
      "execution_count": 7,
      "metadata": {},
      "outputs": [
        {
          "name": "stdout",
          "output_type": "stream",
          "text": [
            "12.56\n",
            "180000000000000000\n"
          ]
        }
      ],
      "source": [
        "'''\n",
        "constants.py\n",
        "def pi():\n",
        "    return 3.14\n",
        "\n",
        "def speed_of_light():\n",
        "    return 3*10**8 '''\n",
        "\n",
        "\n",
        "import constants\n",
        "print(constants.pi()*2*2)  # area of circle is pi*r*r where r=2\n",
        "print(2*constants.speed_of_light()*constants.speed_of_light()) # E=mc2 where m=2"
      ]
    },
    {
      "cell_type": "markdown",
      "metadata": {},
      "source": [
        "## Write a python module named calculator.py containing functions like addition,subtraction,multiplication, and division."
      ]
    },
    {
      "cell_type": "code",
      "execution_count": 11,
      "metadata": {},
      "outputs": [
        {
          "name": "stdout",
          "output_type": "stream",
          "text": [
            "addition of 10 and 20 is: 30\n",
            "subtraction of 10 and 20 is: -10\n",
            "multiplication of 10 and 20 is: 200\n",
            "division of 10 and 20 is: 0\n"
          ]
        }
      ],
      "source": [
        "'''Calculators.py\n",
        "\n",
        "def add(a,b):\n",
        "    return a+b\n",
        "\n",
        "def sub(a,b):\n",
        "    return a-b\n",
        "\n",
        "def mul(a,b):\n",
        "    return a*b\n",
        "\n",
        "def div(a,b):\n",
        "    return a//b\n",
        "    \n",
        "'''\n",
        "import calculators as calc\n",
        "\n",
        "a=10 \n",
        "b=20\n",
        "\n",
        "print(f'addition of {a} and {b} is:',calc.add(a,b))\n",
        "print(f'subtraction of {a} and {b} is:',calc.sub(a,b))\n",
        "print(f'multiplication of {a} and {b} is:',calc.mul(a,b))\n",
        "print(f'division of {a} and {b} is:',calc.div(a,b))"
      ]
    },
    {
      "cell_type": "markdown",
      "metadata": {},
      "source": [
        "13. ## Implement a Python package structure for a project named ecommerce, containing modules for product management and order processing."
      ]
    },
    {
      "cell_type": "code",
      "execution_count": 43,
      "metadata": {},
      "outputs": [
        {
          "name": "stdout",
          "output_type": "stream",
          "text": [
            "Stock value is changed to 50\n",
            "Successfully updated...\n",
            "order of Game console is placed...\n",
            "Out of stock!!\n",
            "Stock value is changed to 150\n",
            "Successfully updated...\n",
            "Stock value is changed to 95\n",
            "Successfully updated...\n",
            "order of Game console is placed...\n"
          ]
        }
      ],
      "source": [
        "'''\n",
        "#ecommerce.py\n",
        "class product:\n",
        "    def __init__(self,id,name,price,stock):\n",
        "        self.id=id\n",
        "        self.name=name\n",
        "        self.price=price\n",
        "        self.stock=stock\n",
        "\n",
        "    \n",
        "    def update_stock(self,quantity):\n",
        "        self.stock+=quantity\n",
        "        print(f'Stock value is changed to {self.stock}')\n",
        "        print(\"Successfully updated...\")\n",
        "\n",
        "    def apply_discount(self,discount):\n",
        "        self.price-=self.price*(discount/100)\n",
        "        print(f'After discounting the price will be {self.price}')\n",
        "\n",
        "#orders.py\n",
        "\n",
        "from ecommerce import product\n",
        "\n",
        "class order:\n",
        "    def __init__(self,order_id,product,quantity):\n",
        "        self.order_id=order_id\n",
        "        self.product=product \n",
        "        self.quantity=quantity\n",
        "        self.flag=\"pending\"\n",
        "\n",
        "    def process_order(self):\n",
        "        if self.product.stock >= self.quantity:\n",
        "            self.product.update_stock(-self.quantity)\n",
        "            self.flag=\"processing\"\n",
        "            print(f'order of {self.product.name} is placed...')\n",
        "        else:\n",
        "            print(\"Out of stock!!\")\n",
        "\n",
        "    def cancel_order(self):\n",
        "        if self.flag==\"processing\":\n",
        "            self.product.update_stock(self.quantity)\n",
        "        self.flag=\"cancelled\"\n",
        "\n",
        "        print(f'product with {self.name} is cancelled..')\n",
        "\n",
        "'''\n",
        "\n",
        "\n",
        "from ecommerce import product\n",
        "from orders  import order\n",
        "\n",
        "prod = product(1,\"Game console\",1000,55) # product management\n",
        "\n",
        "ord1 = order(1001,prod,5)   #order 1\n",
        "ord2 = order(1002,prod,55)  # order 2\n",
        "\n",
        "ord1.process_order()\n",
        "\n",
        "ord2.process_order()\n",
        "\n",
        "prod.update_stock(100)\n",
        "\n",
        "ord2.process_order()\n",
        "\n"
      ]
    },
    {
      "cell_type": "markdown",
      "metadata": {},
      "source": [
        " ## Implement a Python module named string_utils.py containing functions for string manipulation, such as reversing and capitalizing strings."
      ]
    },
    {
      "cell_type": "code",
      "execution_count": 5,
      "metadata": {},
      "outputs": [
        {
          "name": "stdout",
          "output_type": "stream",
          "text": [
            "HELLO\n",
            "hello\n",
            "olleh\n",
            "Hello\n"
          ]
        }
      ],
      "source": [
        "'''\n",
        "string_utils.py\n",
        "\n",
        "def reversed(string):\n",
        "        return string[::-1]\n",
        "    \n",
        "def capitalized(string):\n",
        "        return string.capitalize()\n",
        "\n",
        "def uppercased(string):\n",
        "        return string.upper()\n",
        "\n",
        "def lowercased(string):\n",
        "        return string.lower()\n",
        "'''\n",
        "import string_utils\n",
        "\n",
        "strs = \"hello\"\n",
        "\n",
        "print(string_utils.uppercased(strs))\n",
        "print(string_utils.lowercased(strs))\n",
        "print(string_utils.reversed(strs))\n",
        "print(string_utils.capitalized(strs))"
      ]
    },
    {
      "cell_type": "markdown",
      "metadata": {},
      "source": [
        "## Write a Python module named file_operations.py with functions for reading, writing, and appending data to a file."
      ]
    },
    {
      "cell_type": "code",
      "execution_count": 14,
      "metadata": {},
      "outputs": [
        {
          "name": "stdout",
          "output_type": "stream",
          "text": [
            "None\n"
          ]
        }
      ],
      "source": [
        "'''\n",
        "file_operation.py\n",
        "\n",
        "def read_file():\n",
        "    fp = open(\"file1.txt\",\"r\")\n",
        "    for i in fp.read():\n",
        "        print(i)\n",
        "    fp.close()\n",
        "\n",
        "def write_file(strs):\n",
        "    fp = open(\"file1.txt\",\"w\")\n",
        "    fp.write(strs)\n",
        "    fp.close()\n",
        "\n",
        "def append_file(strs1):\n",
        "    fp = open(\"file1.txt\",\"a\")\n",
        "    fp.write(strs1)\n",
        "    fp.close()\n",
        "\n",
        "'''\n",
        "\n",
        "import file_operations as fo\n",
        "\n",
        "strs = \"hello how are you?\"\n",
        "strs1 = \"I am fine\"\n",
        "\n",
        "fo.read_file()\n",
        "fo.write_file(strs)\n",
        "fo.append_file(strs1)\n",
        "\n",
        "\n",
        "# output: hello how are you?I am fine\n",
        "\n"
      ]
    },
    {
      "cell_type": "markdown",
      "metadata": {},
      "source": [
        "##  Write a Python program to create a text file named \"employees.txt\" and write the details of employees, including their name, age, and salary, into the file."
      ]
    },
    {
      "cell_type": "code",
      "execution_count": 29,
      "metadata": {},
      "outputs": [
        {
          "name": "stdout",
          "output_type": "stream",
          "text": [
            "name:xyz ,age: 20 , salary: 50000\n",
            "\n",
            "name:def ,age: 18 , salary: 90000\n",
            "\n"
          ]
        }
      ],
      "source": [
        "fp = open(\"employees.txt\",\"w+\")\n",
        "employees = [\n",
        "{'name':'xyz','age':20,'salary':50000},\n",
        "{'name':'def','age':18,'salary':90000}\n",
        "]\n",
        "\n",
        "for employee in employees:\n",
        "    fp.write(f\"name:{employee['name']} ,age: {employee['age']} , salary: {employee['salary']}\\n\")\n",
        "\n",
        "for i in fp.readlines():\n",
        "    print(i)\n",
        "\n",
        "fp.close()"
      ]
    },
    {
      "cell_type": "markdown",
      "metadata": {},
      "source": [
        "## Develop a Python script that opens an existing text file named \"inventory.txt\" in read mode and displays the contents of the file line by line"
      ]
    },
    {
      "cell_type": "code",
      "execution_count": 30,
      "metadata": {},
      "outputs": [
        {
          "name": "stdout",
          "output_type": "stream",
          "text": [
            "This is the automobile inventory.\n",
            "\n",
            "\n",
            "\n",
            "This inventory consis of various components.\n"
          ]
        }
      ],
      "source": [
        "fp = open(\"inventory.txt\",\"r\")\n",
        "for i in fp.readlines():\n",
        "    print(i)\n",
        "\n",
        "fp.close()"
      ]
    },
    {
      "cell_type": "markdown",
      "metadata": {},
      "source": [
        "## Create a Python script that reads a text file named \"expenses.txt\" and calculates the total amount spent on various expenses listed in the file"
      ]
    },
    {
      "cell_type": "code",
      "execution_count": 49,
      "metadata": {},
      "outputs": [
        {
          "name": "stdout",
          "output_type": "stream",
          "text": [
            "150\n"
          ]
        }
      ],
      "source": [
        "fp = open(\"expenses.txt\",\"r\")\n",
        "total_amount = 0\n",
        "for i in fp:\n",
        "    parts = i.strip().split()\n",
        "    if parts:\n",
        "        amount = int(parts[-1])\n",
        "        total_amount+=amount\n",
        "print(total_amount)\n"
      ]
    },
    {
      "cell_type": "code",
      "execution_count": 51,
      "metadata": {},
      "outputs": [
        {
          "name": "stdout",
          "output_type": "stream",
          "text": [
            "automobile:1 \n",
            "components:1 \n",
            "consis:1 \n",
            "inventory:2 \n",
            "is:1 \n",
            "of:1 \n",
            "the:1 \n",
            "this:2 \n",
            "various:1 \n"
          ]
        }
      ],
      "source": [
        "from collections import Counter\n",
        "import re\n",
        "\n",
        "def word_count(path):\n",
        "    fp = open(path,\"r\")\n",
        "    text = fp.read().lower()\n",
        "    words = re.findall(r'\\b\\w+\\b',text)\n",
        "    words_count = Counter(words)\n",
        "\n",
        "    sorted_word_count = dict(sorted(words_count.items()))\n",
        "\n",
        "    for word,count in sorted_word_count.items():\n",
        "        print(f\"{word}:{count} \")\n",
        "\n",
        "word_count(\"inventory.txt\")"
      ]
    },
    {
      "cell_type": "markdown",
      "metadata": {},
      "source": [
        "## Calculate coefficient of correlation between the marks obtained by 10 students in Accountancy and statistics: Use Karl Pearson’s Coefficient of Correlation Method to find it."
      ]
    },
    {
      "cell_type": "code",
      "execution_count": 1,
      "metadata": {},
      "outputs": [
        {
          "name": "stdout",
          "output_type": "stream",
          "text": [
            "Correlation Coefficient: 0.9808088067239751\n"
          ]
        }
      ],
      "source": [
        "import math\n",
        "\n",
        "# Marks obtained by students\n",
        "accountancy_marks = [85, 90, 78, 92, 88, 76, 85, 89, 84, 91]\n",
        "statistics_marks = [78, 88, 74, 90, 84, 70, 80, 85, 79, 87]\n",
        "\n",
        "# Calculate the means\n",
        "mean_x = sum(accountancy_marks) / len(accountancy_marks)\n",
        "mean_y = sum(statistics_marks) / len(statistics_marks)\n",
        "\n",
        "# Calculate the deviations and their products\n",
        "deviation_products = [(x - mean_x) * (y - mean_y) for x, y in zip(accountancy_marks, statistics_marks)]\n",
        "squared_deviation_x = [(x - mean_x) ** 2 for x in accountancy_marks]\n",
        "squared_deviation_y = [(y - mean_y) ** 2 for y in statistics_marks]\n",
        "\n",
        "# Sum the values\n",
        "sum_deviation_products = sum(deviation_products)\n",
        "sum_squared_deviation_x = sum(squared_deviation_x)\n",
        "sum_squared_deviation_y = sum(squared_deviation_y)\n",
        "\n",
        "# Calculate the correlation coefficient\n",
        "correlation_coefficient = sum_deviation_products / math.sqrt(sum_squared_deviation_x * sum_squared_deviation_y)\n",
        "\n",
        "print(f\"Correlation Coefficient: {correlation_coefficient}\")\n"
      ]
    },
    {
      "cell_type": "markdown",
      "metadata": {},
      "source": [
        "\n",
        "## How would you create a basic Flask route that displays \"Hello, World!\" on the homepage?\n"
      ]
    },
    {
      "cell_type": "code",
      "execution_count": 4,
      "metadata": {},
      "outputs": [],
      "source": [
        "from flask import Flask\n",
        "\n",
        "app = Flask(__name__)\n",
        "\n",
        "@app.route('/') \n",
        "def hello_world():\n",
        "     return 'Hello, World!'\n",
        "\n",
        "if __name__ == 'main': app.run(debug=True)"
      ]
    },
    {
      "cell_type": "markdown",
      "metadata": {},
      "source": [
        "## Explain how to set up a Flask application to handle form submissions using POST requests."
      ]
    },
    {
      "cell_type": "code",
      "execution_count": null,
      "metadata": {},
      "outputs": [],
      "source": [
        "from flask import Flask, request, render_template\n",
        "\n",
        "app = Flask(__name__)\n",
        "\n",
        "@app.route('/')\n",
        "def index():\n",
        "    return render_template('index.html')\n",
        "\n",
        "@app.route('/submit', methods=['POST'])\n",
        "def submit():\n",
        "    # Retrieve form data\n",
        "    name = request.form['name']\n",
        "    email = request.form['email']\n",
        "    return f'Name: {name}, Email: {email}'\n",
        "\n",
        "if __name__ == '__main__':\n",
        "    app.run(debug=True)\n",
        "\n",
        "'''html\n",
        "    Form Submission\n",
        "\n",
        "\n",
        "    Submit Your Information\n",
        "    \n",
        "        Name:\n",
        "        \n",
        "        Email:'''\n"
      ]
    },
    {
      "cell_type": "markdown",
      "metadata": {},
      "source": [
        "## Explain how to use Flask-WTF to create and validate forms in a Flask application."
      ]
    },
    {
      "cell_type": "code",
      "execution_count": null,
      "metadata": {},
      "outputs": [],
      "source": [
        "from flask import Flask, render_template, request, flash\n",
        "from flask_wtf import FlaskForm\n",
        "from wtforms import StringField, PasswordField, SubmitField\n",
        "from wtforms.validators import DataRequired, Length, Email\n",
        "\n",
        "app = Flask(__name__)\n",
        "app.config['SECRET_KEY'] = 'your_secret_key'\n",
        "\n",
        "class RegistrationForm(FlaskForm):\n",
        "    username = StringField('Username', validators=[DataRequired(), Length(min=4, max=25)])\n",
        "    email = StringField('Email', validators=[DataRequired(), Email()])\n",
        "    password = PasswordField('Password', validators=[DataRequired(), Length(min=6)])\n",
        "    submit = SubmitField('Register')\n",
        "\n",
        "@app.route('/register', methods=['GET', 'POST'])\n",
        "def register():\n",
        "    form = RegistrationForm()\n",
        "    if form.validate_on_submit():\n",
        "        flash(f'Account created for {form.username.data}!', 'success')\n",
        "        return redirect(url_for('home'))\n",
        "    return render_template('register.html', form=form)\n",
        "\n",
        "@app.route('/')\n",
        "def home():\n",
        "    return 'Home Page'\n",
        "\n",
        "if __name__ == '__main__':\n",
        "    app.run(debug=True)\n",
        "\n",
        "\n",
        "'''html\n",
        "    Register\n",
        "\n",
        "\n",
        "    Register\n",
        "    \n",
        "        {{ form.hidden_tag() }}\n",
        "        \n",
        "            {{ form.username.label }}\n",
        "            {{ form.username(size=32) }}\n",
        "            {% for error in form.username.errors %}\n",
        "                [{{ error }}]\n",
        "            {% endfor %}\n",
        "        \n",
        "        \n",
        "            {{ form.email.label }}\n",
        "            {{ form.email(size=32) }}\n",
        "            {% for error in form.email.errors %}\n",
        "                [{{ error }}]\n",
        "            {% endfor %}\n",
        "        \n",
        "        \n",
        "            {{ form.password.label }}\n",
        "            {{ form.password(size=32) }}\n",
        "            {% for error in form.password.errors %}\n",
        "                [{{ error }}]\n",
        "            {% endfor %}\n",
        "        \n",
        "        {{ form.submit() }}'''"
      ]
    },
    {
      "cell_type": "markdown",
      "metadata": {},
      "source": [
        "## How can you implement file uploads in a Flask application?"
      ]
    },
    {
      "cell_type": "code",
      "execution_count": null,
      "metadata": {},
      "outputs": [],
      "source": [
        "import os\n",
        "from flask import Flask, request, redirect, url_for, render_template\n",
        "from werkzeug.utils import secure_filename\n",
        "\n",
        "app = Flask(__name__)\n",
        "\n",
        "# Configure the upload folder\n",
        "UPLOAD_FOLDER = 'uploads'\n",
        "app.config['UPLOAD_FOLDER'] = UPLOAD_FOLDER\n",
        "\n",
        "# Allowed file extensions\n",
        "ALLOWED_EXTENSIONS = {'txt', 'pdf', 'png', 'jpg', 'jpeg', 'gif'}\n",
        "\n",
        "def allowed_file(filename):\n",
        "    return '.' in filename and filename.rsplit('.', 1)[1].lower() in ALLOWED_EXTENSIONS\n",
        "\n",
        "@app.route('/')\n",
        "def index():\n",
        "    return render_template('index.html')\n",
        "\n",
        "@app.route('/upload', methods=['POST'])\n",
        "def upload_file():\n",
        "    # Check if the post request has the file part\n",
        "    if 'file' not in request.files:\n",
        "        return redirect(request.url)\n",
        "    file = request.files['file']\n",
        "    # If the user does not select a file, the browser submits an empty file without a filename\n",
        "    if file.filename == '':\n",
        "        return redirect(request.url)\n",
        "    if file and allowed_file(file.filename):\n",
        "        filename = secure_filename(file.filename)\n",
        "        file.save(os.path.join(app.config['UPLOAD_FOLDER'], filename))\n",
        "        return redirect(url_for('uploaded_file', filename=filename))\n",
        "    return redirect(request.url)\n",
        "\n",
        "@app.route('/uploads/')\n",
        "def uploaded_file(filename):\n",
        "    return f'File {filename} uploaded successfully!'\n",
        "\n",
        "if __name__ == '__main__':\n",
        "    app.run(debug=True)\n",
        "\n",
        "'''html\n",
        "    \n",
        "    Upload File\n",
        "\n",
        "\n",
        "    Upload a File'''\n",
        "    "
      ]
    },
    {
      "cell_type": "markdown",
      "metadata": {},
      "source": [
        "## Describe the steps to create a Flask blueprint and why you might use one."
      ]
    },
    {
      "cell_type": "code",
      "execution_count": null,
      "metadata": {},
      "outputs": [],
      "source": [
        "from flask import Flask\n",
        "\n",
        "app = Flask(__name__)\n",
        "\n",
        "if __name__ == '__main__':\n",
        "    app.run(debug=True)\n",
        "\n",
        "from flask import Blueprint\n",
        "\n",
        "my_blueprint = Blueprint('my_blueprint', __name__)\n",
        "\n",
        "@my_blueprint.route('/hello')\n",
        "def hello():\n",
        "    return 'Hello from the Blueprint!'\n",
        "\n",
        "\n",
        "from flask import Flask\n",
        "from my_blueprint.routes import my_blueprint\n",
        "\n",
        "app = Flask(__name__)\n",
        "app.register_blueprint(my_blueprint, url_prefix='/my_blueprint')\n",
        "\n",
        "if __name__ == '__main__':\n",
        "    app.run(debug=True)"
      ]
    },
    {
      "cell_type": "markdown",
      "metadata": {},
      "source": [
        "## How would you deploy a Flask application to a production server using Gunicorn and Nginx?"
      ]
    },
    {
      "cell_type": "markdown",
      "metadata": {},
      "source": [
        "Step 1: Install Required Packages\n",
        "First, ensure you have Python, pip, and virtualenv installed on your server. You can install them using the following commands:\n",
        "\n",
        "sudo apt update sudo apt install python3 python3-pip python3-venv nginx\n",
        "\n",
        "Step 2: Set Up Your Flask Application\n",
        "Create a directory for your Flask application and set up a virtual environment:\n",
        "\n",
        "mkdir ~/myflaskapp cd ~/myflaskapp python3 -m venv venv source venv/bin/activate\n",
        "\n",
        "Install Flask and Gunicorn within the virtual environment:\n",
        "\n",
        "pip install Flask gunicorn\n",
        "\n",
        "Create a simple Flask application, for example, app.py:\n",
        "\n",
        "from flask import Flask\n",
        "\n",
        "app = Flask(__name__)\n",
        "\n",
        "@app.route('/')\n",
        "def hello():\n",
        "    return 'Hello, World!'\n",
        "\n",
        "if __name__ == '__main__':\n",
        "    app.run()\n",
        "\n",
        "\n",
        "### Step 3: Test Gunicorn\n",
        "Run Gunicorn to ensure it can serve your Flask application:\n",
        "\n",
        "gunicorn --bind 0.0.0.0:8000 app:app\n",
        "\n",
        "\n",
        "You should be able to access your application at `http://your_server_ip:8000`.\n",
        "\n",
        "### Step 4: Create a Systemd Service File for Gunicorn\n",
        "Create a service file to manage Gunicorn with systemd. Create a file named `gunicorn.service` in `/etc/systemd/system/`:\n",
        "\n",
        "sudo nano /etc/systemd/system/gunicorn.service\n",
        "\n",
        "\n",
        "Add the following content to the file:\n",
        "[Unit]\n",
        "Description=Gunicorn instance to serve myflaskapp\n",
        "After=network.target\n",
        "\n",
        "[Service]\n",
        "User=your_user\n",
        "Group=www-data\n",
        "WorkingDirectory=/home/your_user/myflaskapp\n",
        "Environment=\"PATH=/home/your_user/myflaskapp/venv/bin\"\n",
        "ExecStart=/home/your_user/myflaskapp/venv/bin/gunicorn --workers 3 --bind unix:myflaskapp.sock -m 007 app:app\n",
        "\n",
        "[Install]\n",
        "WantedBy=multi-user.target\n",
        "\n",
        "\n",
        "Replace `your_user` with your actual username.\n",
        "\n",
        "### Step 5: Start and Enable the Gunicorn Service\n",
        "Start the Gunicorn service and enable it to start on boot:\n",
        "\n",
        "sudo systemctl start gunicorn\n",
        "sudo systemctl enable gunicorn\n",
        "\n",
        "\n",
        "### Step 6: Configure Nginx\n",
        "Create an Nginx configuration file for your Flask application:\n",
        "\n",
        "sudo nano /etc/nginx/sites-available/myflaskapp\n",
        "\n",
        "\n",
        "Add the following content:\n",
        "```nginx\n",
        "server {\n",
        "    listen 80;\n",
        "    server_name your_domain_or_IP;\n",
        "\n",
        "    location / {\n",
        "        include proxy_params;\n",
        "        proxy_pass http://unix:/home/your_user/myflaskapp/myflaskapp.sock;\n",
        "    }\n",
        "}\n",
        "\n",
        "\n",
        "Enable the Nginx configuration by creating a symbolic link:\n",
        "\n",
        "sudo ln -s /etc/nginx/sites-available/myflaskapp /etc/nginx/sites-enabled\n",
        "\n",
        "\n",
        "Test the Nginx configuration and restart Nginx:\n",
        "\n",
        "sudo nginx -t\n",
        "sudo systemctl restart nginx\n",
        "\n",
        "### Step 7: Adjust Firewall Settings\n",
        "If you have a firewall enabled, allow Nginx traffic:\n",
        "\n",
        "sudo ufw allow 'Nginx Full'\n",
        "\n",
        "\n",
        "### Step 8: Access Your Application\n",
        "Your Flask application should now be accessible at `http://your_domain_or_IP`."
      ]
    },
    {
      "cell_type": "markdown",
      "metadata": {},
      "source": []
    }
  ],
  "metadata": {
    "colab": {
      "provenance": []
    },
    "kernelspec": {
      "display_name": "Python 3",
      "name": "python3"
    },
    "language_info": {
      "codemirror_mode": {
        "name": "ipython",
        "version": 3
      },
      "file_extension": ".py",
      "mimetype": "text/x-python",
      "name": "python",
      "nbconvert_exporter": "python",
      "pygments_lexer": "ipython3",
      "version": "3.11.5"
    }
  },
  "nbformat": 4,
  "nbformat_minor": 0
}
