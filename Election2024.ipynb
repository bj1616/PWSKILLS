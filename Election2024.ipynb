{
 "cells": [
  {
   "cell_type": "code",
   "execution_count": 2,
   "metadata": {},
   "outputs": [],
   "source": [
    "import pandas as pd"
   ]
  },
  {
   "cell_type": "code",
   "execution_count": 3,
   "metadata": {},
   "outputs": [
    {
     "data": {
      "text/html": [
       "<div>\n",
       "<style scoped>\n",
       "    .dataframe tbody tr th:only-of-type {\n",
       "        vertical-align: middle;\n",
       "    }\n",
       "\n",
       "    .dataframe tbody tr th {\n",
       "        vertical-align: top;\n",
       "    }\n",
       "\n",
       "    .dataframe thead th {\n",
       "        text-align: right;\n",
       "    }\n",
       "</style>\n",
       "<table border=\"1\" class=\"dataframe\">\n",
       "  <thead>\n",
       "    <tr style=\"text-align: right;\">\n",
       "      <th></th>\n",
       "      <th>id</th>\n",
       "      <th>sex</th>\n",
       "      <th>age</th>\n",
       "      <th>federal_district</th>\n",
       "      <th>type_of_city</th>\n",
       "      <th>knows_election_date</th>\n",
       "      <th>will_vote</th>\n",
       "      <th>candidate</th>\n",
       "      <th>television_usage</th>\n",
       "      <th>internet_usage</th>\n",
       "      <th>education</th>\n",
       "      <th>income</th>\n",
       "      <th>employment</th>\n",
       "      <th>job_type</th>\n",
       "      <th>company_type</th>\n",
       "      <th>weight1</th>\n",
       "    </tr>\n",
       "  </thead>\n",
       "  <tbody>\n",
       "    <tr>\n",
       "      <th>0</th>\n",
       "      <td>07169ed8148ce047</td>\n",
       "      <td>male</td>\n",
       "      <td>18.0</td>\n",
       "      <td>north caucasian</td>\n",
       "      <td>village</td>\n",
       "      <td>named correct date</td>\n",
       "      <td>not sure</td>\n",
       "      <td>Putin</td>\n",
       "      <td>several times a week</td>\n",
       "      <td>over 4 hours a day</td>\n",
       "      <td>incomplete school education</td>\n",
       "      <td>very high</td>\n",
       "      <td>entrepreneur</td>\n",
       "      <td>NaN</td>\n",
       "      <td>farming</td>\n",
       "      <td>1.445172</td>\n",
       "    </tr>\n",
       "    <tr>\n",
       "      <th>1</th>\n",
       "      <td>0716a4f3354cecdd</td>\n",
       "      <td>male</td>\n",
       "      <td>23.0</td>\n",
       "      <td>north caucasian</td>\n",
       "      <td>village</td>\n",
       "      <td>named correct date</td>\n",
       "      <td>not sure</td>\n",
       "      <td>Putin</td>\n",
       "      <td>once half a year</td>\n",
       "      <td>over 4 hours a day</td>\n",
       "      <td>college</td>\n",
       "      <td>very high</td>\n",
       "      <td>work for hire</td>\n",
       "      <td>commercial organization</td>\n",
       "      <td>trade</td>\n",
       "      <td>1.445172</td>\n",
       "    </tr>\n",
       "    <tr>\n",
       "      <th>2</th>\n",
       "      <td>0716889b304ce79c</td>\n",
       "      <td>male</td>\n",
       "      <td>20.0</td>\n",
       "      <td>volga</td>\n",
       "      <td>city with population of less than 50k</td>\n",
       "      <td>named correct date</td>\n",
       "      <td>definitely yes</td>\n",
       "      <td>Putin</td>\n",
       "      <td>several times a week</td>\n",
       "      <td>over 4 hours a day</td>\n",
       "      <td>college</td>\n",
       "      <td>very high</td>\n",
       "      <td>work for hire</td>\n",
       "      <td>law enforcement agency</td>\n",
       "      <td>law enforcement agency</td>\n",
       "      <td>1.301691</td>\n",
       "    </tr>\n",
       "    <tr>\n",
       "      <th>3</th>\n",
       "      <td>07168e28b5cce563</td>\n",
       "      <td>male</td>\n",
       "      <td>22.0</td>\n",
       "      <td>northwestern</td>\n",
       "      <td>city with population of 1 million and higher</td>\n",
       "      <td>not sure or no answer</td>\n",
       "      <td>not sure</td>\n",
       "      <td>Davankov</td>\n",
       "      <td>several times a week</td>\n",
       "      <td>over 4 hours a day</td>\n",
       "      <td>college</td>\n",
       "      <td>very high</td>\n",
       "      <td>unemployed</td>\n",
       "      <td>NaN</td>\n",
       "      <td>NaN</td>\n",
       "      <td>1.538628</td>\n",
       "    </tr>\n",
       "    <tr>\n",
       "      <th>4</th>\n",
       "      <td>0716a563914ce549</td>\n",
       "      <td>male</td>\n",
       "      <td>21.0</td>\n",
       "      <td>southern</td>\n",
       "      <td>city with population of 1 million and higher</td>\n",
       "      <td>named correct date</td>\n",
       "      <td>definitely yes</td>\n",
       "      <td>Putin</td>\n",
       "      <td>does not watch</td>\n",
       "      <td>over 4 hours a day</td>\n",
       "      <td>bachelor degree</td>\n",
       "      <td>very high</td>\n",
       "      <td>employed student</td>\n",
       "      <td>commercial organization</td>\n",
       "      <td>tech, programming, communications</td>\n",
       "      <td>1.967015</td>\n",
       "    </tr>\n",
       "  </tbody>\n",
       "</table>\n",
       "</div>"
      ],
      "text/plain": [
       "                 id   sex   age federal_district  \\\n",
       "0  07169ed8148ce047  male  18.0  north caucasian   \n",
       "1  0716a4f3354cecdd  male  23.0  north caucasian   \n",
       "2  0716889b304ce79c  male  20.0            volga   \n",
       "3  07168e28b5cce563  male  22.0     northwestern   \n",
       "4  0716a563914ce549  male  21.0         southern   \n",
       "\n",
       "                                   type_of_city    knows_election_date  \\\n",
       "0                                       village     named correct date   \n",
       "1                                       village     named correct date   \n",
       "2         city with population of less than 50k     named correct date   \n",
       "3  city with population of 1 million and higher  not sure or no answer   \n",
       "4  city with population of 1 million and higher     named correct date   \n",
       "\n",
       "        will_vote candidate      television_usage      internet_usage  \\\n",
       "0        not sure     Putin  several times a week  over 4 hours a day   \n",
       "1        not sure     Putin      once half a year  over 4 hours a day   \n",
       "2  definitely yes     Putin  several times a week  over 4 hours a day   \n",
       "3        not sure  Davankov  several times a week  over 4 hours a day   \n",
       "4  definitely yes     Putin        does not watch  over 4 hours a day   \n",
       "\n",
       "                     education     income        employment  \\\n",
       "0  incomplete school education  very high      entrepreneur   \n",
       "1                      college  very high     work for hire   \n",
       "2                      college  very high     work for hire   \n",
       "3                      college  very high        unemployed   \n",
       "4              bachelor degree  very high  employed student   \n",
       "\n",
       "                  job_type                       company_type   weight1  \n",
       "0                      NaN                            farming  1.445172  \n",
       "1  commercial organization                              trade  1.445172  \n",
       "2   law enforcement agency             law enforcement agency  1.301691  \n",
       "3                      NaN                                NaN  1.538628  \n",
       "4  commercial organization  tech, programming, communications  1.967015  "
      ]
     },
     "execution_count": 3,
     "metadata": {},
     "output_type": "execute_result"
    }
   ],
   "source": [
    "df = pd.read_csv(\"election2024.csv\")\n",
    "df.head()"
   ]
  },
  {
   "cell_type": "code",
   "execution_count": 4,
   "metadata": {},
   "outputs": [
    {
     "data": {
      "text/plain": [
       "(1600, 16)"
      ]
     },
     "execution_count": 4,
     "metadata": {},
     "output_type": "execute_result"
    }
   ],
   "source": [
    "df.shape"
   ]
  },
  {
   "cell_type": "code",
   "execution_count": 5,
   "metadata": {},
   "outputs": [
    {
     "data": {
      "text/html": [
       "<div>\n",
       "<style scoped>\n",
       "    .dataframe tbody tr th:only-of-type {\n",
       "        vertical-align: middle;\n",
       "    }\n",
       "\n",
       "    .dataframe tbody tr th {\n",
       "        vertical-align: top;\n",
       "    }\n",
       "\n",
       "    .dataframe thead th {\n",
       "        text-align: right;\n",
       "    }\n",
       "</style>\n",
       "<table border=\"1\" class=\"dataframe\">\n",
       "  <thead>\n",
       "    <tr style=\"text-align: right;\">\n",
       "      <th></th>\n",
       "      <th>id</th>\n",
       "      <th>sex</th>\n",
       "      <th>age</th>\n",
       "      <th>federal_district</th>\n",
       "      <th>type_of_city</th>\n",
       "      <th>knows_election_date</th>\n",
       "      <th>will_vote</th>\n",
       "      <th>candidate</th>\n",
       "      <th>television_usage</th>\n",
       "      <th>internet_usage</th>\n",
       "      <th>education</th>\n",
       "      <th>income</th>\n",
       "      <th>employment</th>\n",
       "      <th>job_type</th>\n",
       "      <th>company_type</th>\n",
       "      <th>weight1</th>\n",
       "    </tr>\n",
       "  </thead>\n",
       "  <tbody>\n",
       "    <tr>\n",
       "      <th>144</th>\n",
       "      <td>07167ab6e60cea9d</td>\n",
       "      <td>female</td>\n",
       "      <td>45.0</td>\n",
       "      <td>volga</td>\n",
       "      <td>city with population of 50-100k</td>\n",
       "      <td>named correct date</td>\n",
       "      <td>definitely yes</td>\n",
       "      <td>Putin</td>\n",
       "      <td>less than 4 hours a day</td>\n",
       "      <td>less than 4 hours a day</td>\n",
       "      <td>bachelor degree</td>\n",
       "      <td>high</td>\n",
       "      <td>work for hire</td>\n",
       "      <td>commercial organization</td>\n",
       "      <td>housing and communal services</td>\n",
       "      <td>1.199590</td>\n",
       "    </tr>\n",
       "    <tr>\n",
       "      <th>1380</th>\n",
       "      <td>071691e1814ce86c</td>\n",
       "      <td>female</td>\n",
       "      <td>72.0</td>\n",
       "      <td>volga</td>\n",
       "      <td>city with population of 500-950k</td>\n",
       "      <td>named correct date</td>\n",
       "      <td>definitely yes</td>\n",
       "      <td>Putin</td>\n",
       "      <td>less than 4 hours a day</td>\n",
       "      <td>less than 4 hours a day</td>\n",
       "      <td>college</td>\n",
       "      <td>medium</td>\n",
       "      <td>unemployed pensioner</td>\n",
       "      <td>NaN</td>\n",
       "      <td>NaN</td>\n",
       "      <td>0.588544</td>\n",
       "    </tr>\n",
       "  </tbody>\n",
       "</table>\n",
       "</div>"
      ],
      "text/plain": [
       "                    id     sex   age federal_district  \\\n",
       "144   07167ab6e60cea9d  female  45.0            volga   \n",
       "1380  071691e1814ce86c  female  72.0            volga   \n",
       "\n",
       "                          type_of_city knows_election_date       will_vote  \\\n",
       "144    city with population of 50-100k  named correct date  definitely yes   \n",
       "1380  city with population of 500-950k  named correct date  definitely yes   \n",
       "\n",
       "     candidate         television_usage           internet_usage  \\\n",
       "144      Putin  less than 4 hours a day  less than 4 hours a day   \n",
       "1380     Putin  less than 4 hours a day  less than 4 hours a day   \n",
       "\n",
       "            education  income            employment                 job_type  \\\n",
       "144   bachelor degree    high         work for hire  commercial organization   \n",
       "1380          college  medium  unemployed pensioner                      NaN   \n",
       "\n",
       "                       company_type   weight1  \n",
       "144   housing and communal services  1.199590  \n",
       "1380                            NaN  0.588544  "
      ]
     },
     "execution_count": 5,
     "metadata": {},
     "output_type": "execute_result"
    }
   ],
   "source": [
    "df.sample(2)"
   ]
  },
  {
   "cell_type": "code",
   "execution_count": 6,
   "metadata": {},
   "outputs": [
    {
     "data": {
      "text/html": [
       "<div>\n",
       "<style scoped>\n",
       "    .dataframe tbody tr th:only-of-type {\n",
       "        vertical-align: middle;\n",
       "    }\n",
       "\n",
       "    .dataframe tbody tr th {\n",
       "        vertical-align: top;\n",
       "    }\n",
       "\n",
       "    .dataframe thead th {\n",
       "        text-align: right;\n",
       "    }\n",
       "</style>\n",
       "<table border=\"1\" class=\"dataframe\">\n",
       "  <thead>\n",
       "    <tr style=\"text-align: right;\">\n",
       "      <th></th>\n",
       "      <th>age</th>\n",
       "      <th>weight1</th>\n",
       "    </tr>\n",
       "  </thead>\n",
       "  <tbody>\n",
       "    <tr>\n",
       "      <th>count</th>\n",
       "      <td>1600.000000</td>\n",
       "      <td>1600.000000</td>\n",
       "    </tr>\n",
       "    <tr>\n",
       "      <th>mean</th>\n",
       "      <td>49.936250</td>\n",
       "      <td>1.000000</td>\n",
       "    </tr>\n",
       "    <tr>\n",
       "      <th>std</th>\n",
       "      <td>16.901797</td>\n",
       "      <td>0.327084</td>\n",
       "    </tr>\n",
       "    <tr>\n",
       "      <th>min</th>\n",
       "      <td>18.000000</td>\n",
       "      <td>0.468226</td>\n",
       "    </tr>\n",
       "    <tr>\n",
       "      <th>25%</th>\n",
       "      <td>37.000000</td>\n",
       "      <td>0.772224</td>\n",
       "    </tr>\n",
       "    <tr>\n",
       "      <th>50%</th>\n",
       "      <td>49.000000</td>\n",
       "      <td>0.921724</td>\n",
       "    </tr>\n",
       "    <tr>\n",
       "      <th>75%</th>\n",
       "      <td>64.000000</td>\n",
       "      <td>1.158913</td>\n",
       "    </tr>\n",
       "    <tr>\n",
       "      <th>max</th>\n",
       "      <td>90.000000</td>\n",
       "      <td>2.515072</td>\n",
       "    </tr>\n",
       "  </tbody>\n",
       "</table>\n",
       "</div>"
      ],
      "text/plain": [
       "               age      weight1\n",
       "count  1600.000000  1600.000000\n",
       "mean     49.936250     1.000000\n",
       "std      16.901797     0.327084\n",
       "min      18.000000     0.468226\n",
       "25%      37.000000     0.772224\n",
       "50%      49.000000     0.921724\n",
       "75%      64.000000     1.158913\n",
       "max      90.000000     2.515072"
      ]
     },
     "execution_count": 6,
     "metadata": {},
     "output_type": "execute_result"
    }
   ],
   "source": [
    "df.describe()"
   ]
  },
  {
   "cell_type": "code",
   "execution_count": 7,
   "metadata": {},
   "outputs": [],
   "source": [
    "df.fillna(0,inplace=True)"
   ]
  },
  {
   "cell_type": "code",
   "execution_count": 8,
   "metadata": {},
   "outputs": [
    {
     "data": {
      "text/plain": [
       "id                     0\n",
       "sex                    0\n",
       "age                    0\n",
       "federal_district       0\n",
       "type_of_city           0\n",
       "knows_election_date    0\n",
       "will_vote              0\n",
       "candidate              0\n",
       "television_usage       0\n",
       "internet_usage         0\n",
       "education              0\n",
       "income                 0\n",
       "employment             0\n",
       "job_type               0\n",
       "company_type           0\n",
       "weight1                0\n",
       "dtype: int64"
      ]
     },
     "execution_count": 8,
     "metadata": {},
     "output_type": "execute_result"
    }
   ],
   "source": [
    "df.isnull().sum()"
   ]
  },
  {
   "cell_type": "code",
   "execution_count": 9,
   "metadata": {},
   "outputs": [
    {
     "data": {
      "text/plain": [
       "0"
      ]
     },
     "execution_count": 9,
     "metadata": {},
     "output_type": "execute_result"
    }
   ],
   "source": [
    "df.duplicated().sum()"
   ]
  },
  {
   "cell_type": "code",
   "execution_count": 10,
   "metadata": {},
   "outputs": [
    {
     "data": {
      "text/plain": [
       "sex\n",
       "female    843\n",
       "male      757\n",
       "Name: count, dtype: int64"
      ]
     },
     "execution_count": 10,
     "metadata": {},
     "output_type": "execute_result"
    }
   ],
   "source": [
    "df[\"sex\"].value_counts()"
   ]
  },
  {
   "cell_type": "markdown",
   "metadata": {},
   "source": [
    "### *Females are dominating over the Males in the elections*"
   ]
  },
  {
   "cell_type": "code",
   "execution_count": 19,
   "metadata": {},
   "outputs": [
    {
     "data": {
      "text/plain": [
       "candidate\n",
       "Putin                 1128\n",
       "struggle to answer     164\n",
       "will not take part      96\n",
       "Davankov                67\n",
       "Kharitonov              63\n",
       "Slutskiy                55\n",
       "spoilt vote             27\n",
       "Name: count, dtype: int64"
      ]
     },
     "execution_count": 19,
     "metadata": {},
     "output_type": "execute_result"
    }
   ],
   "source": [
    "candidate = df[\"candidate\"].value_counts()\n",
    "candidate"
   ]
  },
  {
   "cell_type": "code",
   "execution_count": 26,
   "metadata": {},
   "outputs": [
    {
     "data": {
      "image/png": "[encoded data removed]",
      "text/plain": [
       "<Figure size 640x480 with 1 Axes>"
      ]
     },
     "metadata": {},
     "output_type": "display_data"
    }
   ],
   "source": [
    "import seaborn as sns \n",
    "import matplotlib.pyplot as plt\n",
    "plt.bar(candidate.index,candidate.values,color=[\"green\",\"yellow\",\"blue\",\"brown\",\"purple\",\"orange\",\"red\"])\n",
    "plt.xticks(rotation=45,fontsize=9)\n",
    "plt.xlabel(\"Candidate\",fontsize=15,color=\"red\")\n",
    "plt.ylabel(\"No.of votes\",fontsize=15,color=\"red\")\n",
    "plt.title(\"Candidate and their No. of votes\",fontsize=15,color=\"red\")\n",
    "plt.show()"
   ]
  },
  {
   "cell_type": "markdown",
   "metadata": {},
   "source": [
    "### *As per the above analysis, we come to know that Putin has won the elections with 1128 votes*"
   ]
  },
  {
   "cell_type": "code",
   "execution_count": 12,
   "metadata": {},
   "outputs": [
    {
     "data": {
      "text/plain": [
       "type_of_city\n",
       "city with population of 100-500k                391\n",
       "village                                         366\n",
       "city with population of 1 million and higher    307\n",
       "city with population of less than 50k           179\n",
       "city with population of 500-950k                170\n",
       "city with population of 50-100k                 106\n",
       "settlement                                       81\n",
       "Name: count, dtype: int64"
      ]
     },
     "execution_count": 12,
     "metadata": {},
     "output_type": "execute_result"
    }
   ],
   "source": [
    "city_counts = df[\"type_of_city\"].value_counts()\n",
    "city_counts "
   ]
  },
  {
   "cell_type": "code",
   "execution_count": 13,
   "metadata": {},
   "outputs": [
    {
     "data": {
      "image/png": "[encoded data removed]",
      "text/plain": [
       "<Figure size 1200x800 with 1 Axes>"
      ]
     },
     "metadata": {},
     "output_type": "display_data"
    }
   ],
   "source": [
    "plt.figure(figsize=(12,8))\n",
    "plt.bar(city_counts.index,city_counts.values,color=[\"green\",\"yellow\",\"blue\",\"brown\",\"purple\",\"orange\",\"red\"])\n",
    "plt.xticks(rotation=45,fontsize=9)\n",
    "plt.xlabel(\"Types  of city\",fontsize=15,color=\"red\")\n",
    "plt.ylabel(\"No.of votes\",fontsize=15,color=\"red\")\n",
    "plt.title(\"City wise No. of votes\",fontsize=15,color=\"red\")\n",
    "plt.show()"
   ]
  },
  {
   "cell_type": "code",
   "execution_count": 14,
   "metadata": {},
   "outputs": [
    {
     "data": {
      "text/html": [
       "<div>\n",
       "<style scoped>\n",
       "    .dataframe tbody tr th:only-of-type {\n",
       "        vertical-align: middle;\n",
       "    }\n",
       "\n",
       "    .dataframe tbody tr th {\n",
       "        vertical-align: top;\n",
       "    }\n",
       "\n",
       "    .dataframe thead th {\n",
       "        text-align: right;\n",
       "    }\n",
       "</style>\n",
       "<table border=\"1\" class=\"dataframe\">\n",
       "  <thead>\n",
       "    <tr style=\"text-align: right;\">\n",
       "      <th></th>\n",
       "      <th>id</th>\n",
       "      <th>sex</th>\n",
       "      <th>age</th>\n",
       "      <th>federal_district</th>\n",
       "      <th>type_of_city</th>\n",
       "      <th>knows_election_date</th>\n",
       "      <th>will_vote</th>\n",
       "      <th>candidate</th>\n",
       "      <th>television_usage</th>\n",
       "      <th>internet_usage</th>\n",
       "      <th>education</th>\n",
       "      <th>income</th>\n",
       "      <th>employment</th>\n",
       "      <th>job_type</th>\n",
       "      <th>company_type</th>\n",
       "      <th>weight1</th>\n",
       "    </tr>\n",
       "  </thead>\n",
       "  <tbody>\n",
       "    <tr>\n",
       "      <th>0</th>\n",
       "      <td>07169ed8148ce047</td>\n",
       "      <td>male</td>\n",
       "      <td>18.0</td>\n",
       "      <td>north caucasian</td>\n",
       "      <td>village</td>\n",
       "      <td>named correct date</td>\n",
       "      <td>not sure</td>\n",
       "      <td>Putin</td>\n",
       "      <td>several times a week</td>\n",
       "      <td>over 4 hours a day</td>\n",
       "      <td>incomplete school education</td>\n",
       "      <td>very high</td>\n",
       "      <td>entrepreneur</td>\n",
       "      <td>0</td>\n",
       "      <td>farming</td>\n",
       "      <td>1.445172</td>\n",
       "    </tr>\n",
       "    <tr>\n",
       "      <th>1</th>\n",
       "      <td>0716a4f3354cecdd</td>\n",
       "      <td>male</td>\n",
       "      <td>23.0</td>\n",
       "      <td>north caucasian</td>\n",
       "      <td>village</td>\n",
       "      <td>named correct date</td>\n",
       "      <td>not sure</td>\n",
       "      <td>Putin</td>\n",
       "      <td>once half a year</td>\n",
       "      <td>over 4 hours a day</td>\n",
       "      <td>college</td>\n",
       "      <td>very high</td>\n",
       "      <td>work for hire</td>\n",
       "      <td>commercial organization</td>\n",
       "      <td>trade</td>\n",
       "      <td>1.445172</td>\n",
       "    </tr>\n",
       "    <tr>\n",
       "      <th>2</th>\n",
       "      <td>0716889b304ce79c</td>\n",
       "      <td>male</td>\n",
       "      <td>20.0</td>\n",
       "      <td>volga</td>\n",
       "      <td>city with population of less than 50k</td>\n",
       "      <td>named correct date</td>\n",
       "      <td>definitely yes</td>\n",
       "      <td>Putin</td>\n",
       "      <td>several times a week</td>\n",
       "      <td>over 4 hours a day</td>\n",
       "      <td>college</td>\n",
       "      <td>very high</td>\n",
       "      <td>work for hire</td>\n",
       "      <td>law enforcement agency</td>\n",
       "      <td>law enforcement agency</td>\n",
       "      <td>1.301691</td>\n",
       "    </tr>\n",
       "    <tr>\n",
       "      <th>3</th>\n",
       "      <td>07168e28b5cce563</td>\n",
       "      <td>male</td>\n",
       "      <td>22.0</td>\n",
       "      <td>northwestern</td>\n",
       "      <td>city with population of 1 million and higher</td>\n",
       "      <td>not sure or no answer</td>\n",
       "      <td>not sure</td>\n",
       "      <td>Davankov</td>\n",
       "      <td>several times a week</td>\n",
       "      <td>over 4 hours a day</td>\n",
       "      <td>college</td>\n",
       "      <td>very high</td>\n",
       "      <td>unemployed</td>\n",
       "      <td>0</td>\n",
       "      <td>0</td>\n",
       "      <td>1.538628</td>\n",
       "    </tr>\n",
       "    <tr>\n",
       "      <th>4</th>\n",
       "      <td>0716a563914ce549</td>\n",
       "      <td>male</td>\n",
       "      <td>21.0</td>\n",
       "      <td>southern</td>\n",
       "      <td>city with population of 1 million and higher</td>\n",
       "      <td>named correct date</td>\n",
       "      <td>definitely yes</td>\n",
       "      <td>Putin</td>\n",
       "      <td>does not watch</td>\n",
       "      <td>over 4 hours a day</td>\n",
       "      <td>bachelor degree</td>\n",
       "      <td>very high</td>\n",
       "      <td>employed student</td>\n",
       "      <td>commercial organization</td>\n",
       "      <td>tech, programming, communications</td>\n",
       "      <td>1.967015</td>\n",
       "    </tr>\n",
       "  </tbody>\n",
       "</table>\n",
       "</div>"
      ],
      "text/plain": [
       "                 id   sex   age federal_district  \\\n",
       "0  07169ed8148ce047  male  18.0  north caucasian   \n",
       "1  0716a4f3354cecdd  male  23.0  north caucasian   \n",
       "2  0716889b304ce79c  male  20.0            volga   \n",
       "3  07168e28b5cce563  male  22.0     northwestern   \n",
       "4  0716a563914ce549  male  21.0         southern   \n",
       "\n",
       "                                   type_of_city    knows_election_date  \\\n",
       "0                                       village     named correct date   \n",
       "1                                       village     named correct date   \n",
       "2         city with population of less than 50k     named correct date   \n",
       "3  city with population of 1 million and higher  not sure or no answer   \n",
       "4  city with population of 1 million and higher     named correct date   \n",
       "\n",
       "        will_vote candidate      television_usage      internet_usage  \\\n",
       "0        not sure     Putin  several times a week  over 4 hours a day   \n",
       "1        not sure     Putin      once half a year  over 4 hours a day   \n",
       "2  definitely yes     Putin  several times a week  over 4 hours a day   \n",
       "3        not sure  Davankov  several times a week  over 4 hours a day   \n",
       "4  definitely yes     Putin        does not watch  over 4 hours a day   \n",
       "\n",
       "                     education     income        employment  \\\n",
       "0  incomplete school education  very high      entrepreneur   \n",
       "1                      college  very high     work for hire   \n",
       "2                      college  very high     work for hire   \n",
       "3                      college  very high        unemployed   \n",
       "4              bachelor degree  very high  employed student   \n",
       "\n",
       "                  job_type                       company_type   weight1  \n",
       "0                        0                            farming  1.445172  \n",
       "1  commercial organization                              trade  1.445172  \n",
       "2   law enforcement agency             law enforcement agency  1.301691  \n",
       "3                        0                                  0  1.538628  \n",
       "4  commercial organization  tech, programming, communications  1.967015  "
      ]
     },
     "execution_count": 14,
     "metadata": {},
     "output_type": "execute_result"
    }
   ],
   "source": [
    "df.head()"
   ]
  },
  {
   "cell_type": "code",
   "execution_count": 15,
   "metadata": {},
   "outputs": [
    {
     "data": {
      "text/plain": [
       "federal_district\n",
       "central            425\n",
       "volga              324\n",
       "siberian           188\n",
       "southern           182\n",
       "northwestern       151\n",
       "ural               134\n",
       "north caucasian    107\n",
       "far eastern         89\n",
       "Name: count, dtype: int64"
      ]
     },
     "execution_count": 15,
     "metadata": {},
     "output_type": "execute_result"
    }
   ],
   "source": [
    "federal_district = df[\"federal_district\"].value_counts()\n",
    "federal_district"
   ]
  },
  {
   "cell_type": "code",
   "execution_count": 16,
   "metadata": {},
   "outputs": [
    {
     "data": {
      "image/png": "[encoded data removed]",
      "text/plain": [
       "<Figure size 640x480 with 1 Axes>"
      ]
     },
     "metadata": {},
     "output_type": "display_data"
    }
   ],
   "source": [
    "sns.lineplot(x=federal_district.index,y=federal_district.values,data =federal_district,color=\"green\",marker=\"o\",markersize=15,markerfacecolor=\"red\")\n",
    "plt.xticks(rotation=45,fontsize=9)\n",
    "plt.xlabel(\"Federal District\",fontsize=15,color=\"red\")\n",
    "plt.ylabel(\"No.of votes\",fontsize=15,color=\"red\")\n",
    "plt.title(\"District wise No. of votes\",fontsize=15,color=\"red\")\n",
    "plt.show()"
   ]
  },
  {
   "cell_type": "code",
   "execution_count": 33,
   "metadata": {},
   "outputs": [
    {
     "data": {
      "text/html": [
       "<div>\n",
       "<style scoped>\n",
       "    .dataframe tbody tr th:only-of-type {\n",
       "        vertical-align: middle;\n",
       "    }\n",
       "\n",
       "    .dataframe tbody tr th {\n",
       "        vertical-align: top;\n",
       "    }\n",
       "\n",
       "    .dataframe thead tr th {\n",
       "        text-align: left;\n",
       "    }\n",
       "\n",
       "    .dataframe thead tr:last-of-type th {\n",
       "        text-align: right;\n",
       "    }\n",
       "</style>\n",
       "<table border=\"1\" class=\"dataframe\">\n",
       "  <thead>\n",
       "    <tr>\n",
       "      <th></th>\n",
       "      <th colspan=\"8\" halign=\"left\">age</th>\n",
       "      <th colspan=\"8\" halign=\"left\">weight1</th>\n",
       "    </tr>\n",
       "    <tr>\n",
       "      <th></th>\n",
       "      <th>count</th>\n",
       "      <th>mean</th>\n",
       "      <th>std</th>\n",
       "      <th>min</th>\n",
       "      <th>25%</th>\n",
       "      <th>50%</th>\n",
       "      <th>75%</th>\n",
       "      <th>max</th>\n",
       "      <th>count</th>\n",
       "      <th>mean</th>\n",
       "      <th>std</th>\n",
       "      <th>min</th>\n",
       "      <th>25%</th>\n",
       "      <th>50%</th>\n",
       "      <th>75%</th>\n",
       "      <th>max</th>\n",
       "    </tr>\n",
       "    <tr>\n",
       "      <th>candidate</th>\n",
       "      <th></th>\n",
       "      <th></th>\n",
       "      <th></th>\n",
       "      <th></th>\n",
       "      <th></th>\n",
       "      <th></th>\n",
       "      <th></th>\n",
       "      <th></th>\n",
       "      <th></th>\n",
       "      <th></th>\n",
       "      <th></th>\n",
       "      <th></th>\n",
       "      <th></th>\n",
       "      <th></th>\n",
       "      <th></th>\n",
       "      <th></th>\n",
       "    </tr>\n",
       "  </thead>\n",
       "  <tbody>\n",
       "    <tr>\n",
       "      <th>Davankov</th>\n",
       "      <td>3.0</td>\n",
       "      <td>26.000000</td>\n",
       "      <td>6.082763</td>\n",
       "      <td>22.0</td>\n",
       "      <td>22.5</td>\n",
       "      <td>23.0</td>\n",
       "      <td>28.00</td>\n",
       "      <td>33.0</td>\n",
       "      <td>3.0</td>\n",
       "      <td>1.505113</td>\n",
       "      <td>0.555598</td>\n",
       "      <td>0.933516</td>\n",
       "      <td>1.236072</td>\n",
       "      <td>1.538628</td>\n",
       "      <td>1.790911</td>\n",
       "      <td>2.043194</td>\n",
       "    </tr>\n",
       "    <tr>\n",
       "      <th>Kharitonov</th>\n",
       "      <td>2.0</td>\n",
       "      <td>56.000000</td>\n",
       "      <td>29.698485</td>\n",
       "      <td>35.0</td>\n",
       "      <td>45.5</td>\n",
       "      <td>56.0</td>\n",
       "      <td>66.50</td>\n",
       "      <td>77.0</td>\n",
       "      <td>2.0</td>\n",
       "      <td>1.234265</td>\n",
       "      <td>0.285624</td>\n",
       "      <td>1.032298</td>\n",
       "      <td>1.133281</td>\n",
       "      <td>1.234265</td>\n",
       "      <td>1.335248</td>\n",
       "      <td>1.436231</td>\n",
       "    </tr>\n",
       "    <tr>\n",
       "      <th>Putin</th>\n",
       "      <td>38.0</td>\n",
       "      <td>50.552632</td>\n",
       "      <td>20.850429</td>\n",
       "      <td>18.0</td>\n",
       "      <td>33.0</td>\n",
       "      <td>51.0</td>\n",
       "      <td>67.75</td>\n",
       "      <td>90.0</td>\n",
       "      <td>38.0</td>\n",
       "      <td>1.028713</td>\n",
       "      <td>0.300966</td>\n",
       "      <td>0.468226</td>\n",
       "      <td>0.801984</td>\n",
       "      <td>1.011018</td>\n",
       "      <td>1.124946</td>\n",
       "      <td>1.967015</td>\n",
       "    </tr>\n",
       "    <tr>\n",
       "      <th>spoilt vote</th>\n",
       "      <td>1.0</td>\n",
       "      <td>44.000000</td>\n",
       "      <td>NaN</td>\n",
       "      <td>44.0</td>\n",
       "      <td>44.0</td>\n",
       "      <td>44.0</td>\n",
       "      <td>44.00</td>\n",
       "      <td>44.0</td>\n",
       "      <td>1.0</td>\n",
       "      <td>1.007256</td>\n",
       "      <td>NaN</td>\n",
       "      <td>1.007256</td>\n",
       "      <td>1.007256</td>\n",
       "      <td>1.007256</td>\n",
       "      <td>1.007256</td>\n",
       "      <td>1.007256</td>\n",
       "    </tr>\n",
       "    <tr>\n",
       "      <th>will not take part</th>\n",
       "      <td>4.0</td>\n",
       "      <td>42.250000</td>\n",
       "      <td>3.593976</td>\n",
       "      <td>37.0</td>\n",
       "      <td>41.5</td>\n",
       "      <td>43.5</td>\n",
       "      <td>44.25</td>\n",
       "      <td>45.0</td>\n",
       "      <td>4.0</td>\n",
       "      <td>0.940833</td>\n",
       "      <td>0.183398</td>\n",
       "      <td>0.729180</td>\n",
       "      <td>0.817519</td>\n",
       "      <td>0.961447</td>\n",
       "      <td>1.084762</td>\n",
       "      <td>1.111258</td>\n",
       "    </tr>\n",
       "  </tbody>\n",
       "</table>\n",
       "</div>"
      ],
      "text/plain": [
       "                     age                                                       \\\n",
       "                   count       mean        std   min   25%   50%    75%   max   \n",
       "candidate                                                                       \n",
       "Davankov             3.0  26.000000   6.082763  22.0  22.5  23.0  28.00  33.0   \n",
       "Kharitonov           2.0  56.000000  29.698485  35.0  45.5  56.0  66.50  77.0   \n",
       "Putin               38.0  50.552632  20.850429  18.0  33.0  51.0  67.75  90.0   \n",
       "spoilt vote          1.0  44.000000        NaN  44.0  44.0  44.0  44.00  44.0   \n",
       "will not take part   4.0  42.250000   3.593976  37.0  41.5  43.5  44.25  45.0   \n",
       "\n",
       "                   weight1                                                    \\\n",
       "                     count      mean       std       min       25%       50%   \n",
       "candidate                                                                      \n",
       "Davankov               3.0  1.505113  0.555598  0.933516  1.236072  1.538628   \n",
       "Kharitonov             2.0  1.234265  0.285624  1.032298  1.133281  1.234265   \n",
       "Putin                 38.0  1.028713  0.300966  0.468226  0.801984  1.011018   \n",
       "spoilt vote            1.0  1.007256       NaN  1.007256  1.007256  1.007256   \n",
       "will not take part     4.0  0.940833  0.183398  0.729180  0.817519  0.961447   \n",
       "\n",
       "                                        \n",
       "                         75%       max  \n",
       "candidate                               \n",
       "Davankov            1.790911  2.043194  \n",
       "Kharitonov          1.335248  1.436231  \n",
       "Putin               1.124946  1.967015  \n",
       "spoilt vote         1.007256  1.007256  \n",
       "will not take part  1.084762  1.111258  "
      ]
     },
     "execution_count": 33,
     "metadata": {},
     "output_type": "execute_result"
    }
   ],
   "source": [
    "df[df[\"income\"] == \"very high\"].groupby(\"candidate\").describe()"
   ]
  },
  {
   "cell_type": "code",
   "execution_count": 38,
   "metadata": {},
   "outputs": [
    {
     "data": {
      "text/plain": [
       "employment\n",
       "work for hire           535\n",
       "unemployed pensioner    502\n",
       "self-employed           122\n",
       "employed pensioner      120\n",
       "unemployed              101\n",
       "entrepreneur             87\n",
       "parental leave           44\n",
       "employed student         37\n",
       "unemployed student       27\n",
       "hard to say              22\n",
       "refused to answer         3\n",
       "Name: count, dtype: int64"
      ]
     },
     "execution_count": 38,
     "metadata": {},
     "output_type": "execute_result"
    }
   ],
   "source": [
    "df[\"employment\"].value_counts()"
   ]
  },
  {
   "cell_type": "code",
   "execution_count": null,
   "metadata": {},
   "outputs": [],
   "source": []
  }
 ],
 "metadata": {
  "kernelspec": {
   "display_name": "Python 3",
   "language": "python",
   "name": "python3"
  },
  "language_info": {
   "codemirror_mode": {
    "name": "ipython",
    "version": 3
   },
   "file_extension": ".py",
   "mimetype": "text/x-python",
   "name": "python",
   "nbconvert_exporter": "python",
   "pygments_lexer": "ipython3",
   "version": "3.11.5"
  }
 },
 "nbformat": 4,
 "nbformat_minor": 2
}
